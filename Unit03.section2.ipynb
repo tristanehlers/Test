{
 "cells": [
  {
   "cell_type": "markdown",
   "id": "maritime-agent",
   "metadata": {
    "slideshow": {
     "slide_type": "slide"
    }
   },
   "source": [
    "# Lecture 3\n",
    "\n",
    "# Section 2: More on functions\n",
    "\n",
    "Hint: All the examples and explanations from this second part of today's lecture can be found in chapter 4 of the book."
   ]
  },
  {
   "cell_type": "markdown",
   "id": "mexican-picnic",
   "metadata": {
    "slideshow": {
     "slide_type": "slide"
    }
   },
   "source": [
    "## Recap functions\n",
    "* Construct large programs from smaller, more manageable pieces. \n",
    "* Divide and conquer. \n",
    "* Use existing functions as building blocks.\n",
    "    * Key aspect of software reusability.\n",
    "    * Also a major benefit of object-oriented programming. \n",
    "* Packaging code as a function allows you to execute it from various locations in your program just by calling the function.\n",
    "* Makes programs easier to modify."
   ]
  },
  {
   "cell_type": "code",
   "execution_count": null,
   "id": "pregnant-japan",
   "metadata": {
    "slideshow": {
     "slide_type": "fragment"
    }
   },
   "outputs": [],
   "source": [
    "def square(number):\n",
    "    \"\"\"Calculate the square of number.\"\"\"\n",
    "    return number ** 2"
   ]
  },
  {
   "cell_type": "code",
   "execution_count": null,
   "id": "roman-meditation",
   "metadata": {
    "slideshow": {
     "slide_type": "-"
    }
   },
   "outputs": [],
   "source": [
    "square(100)"
   ]
  },
  {
   "cell_type": "markdown",
   "id": "false-coaching",
   "metadata": {
    "slideshow": {
     "slide_type": "slide"
    }
   },
   "source": [
    "## 2.1 `math` Module Functions\n",
    "* The **`math` module** defines functions for performing various common mathematical calculations. "
   ]
  },
  {
   "cell_type": "code",
   "execution_count": null,
   "id": "composed-relative",
   "metadata": {},
   "outputs": [],
   "source": [
    "import math"
   ]
  },
  {
   "cell_type": "code",
   "execution_count": null,
   "id": "unnecessary-contrast",
   "metadata": {},
   "outputs": [],
   "source": [
    "math.sqrt(900)"
   ]
  },
  {
   "cell_type": "code",
   "execution_count": null,
   "id": "golden-translator",
   "metadata": {},
   "outputs": [],
   "source": [
    "math.fabs(-10)"
   ]
  },
  {
   "cell_type": "code",
   "execution_count": null,
   "id": "together-housing",
   "metadata": {},
   "outputs": [],
   "source": [
    "math.pow(3,2)"
   ]
  },
  {
   "cell_type": "markdown",
   "id": "nervous-celtic",
   "metadata": {
    "slideshow": {
     "slide_type": "slide"
    }
   },
   "source": [
    "* Some `math` module functions are summarized below\n",
    "* [View the complete list](https://docs.python.org/3/library/math.html)"
   ]
  },
  {
   "cell_type": "markdown",
   "id": "innocent-disclaimer",
   "metadata": {},
   "source": [
    "Function&nbsp;&nbsp;&nbsp;&nbsp;&nbsp;&nbsp;&nbsp;&nbsp;&nbsp;&nbsp;| Description | Example &nbsp;&nbsp;&nbsp;&nbsp;&nbsp;&nbsp;&nbsp;&nbsp;&nbsp;&nbsp;&nbsp;&nbsp;&nbsp;&nbsp;&nbsp;&nbsp;&nbsp;&nbsp;&nbsp;&nbsp;&nbsp;&nbsp;\n",
    ":------- | :------- | :--------\n",
    "`ceil(`x`)`\t| Rounds x to the smallest integer not less than x\t| `ceil(9.2) is 10.0`, `ceil(-9.8) is -9.0`\n",
    "`floor(`x`)`\t| Rounds x to the largest integer not greater than x\t| `floor(9.2) is 9.0`, `floor(-9.8) is -10.0`\n",
    "`sin(`x`)`\t| Trigonometric sine of x (x in radians)\t| `sin(0.0) is 0.0`\n",
    "`cos(`x`)`\t| Trigonometric cosine of x (x in radians)\t| `cos(0.0) is 1.0`\n",
    "`tan(`x`)` \t| Trigonometric tangent of x (x in radians)\t| `tan(0.0) is 0.0`\n",
    "`exp(`x`)`\t| Exponential function e<sup>x</sup>\t| `exp(1.0) is 2.718282`, `exp(2.0) is 7.389056`\n",
    "`log(`x`)`\t| Natural logarithm of x (base e)\t| `log(2.718282) is 1.0`, `log(7.389056) is 2.0`\n",
    "`log10(`x`)`\t| Logarithm of x (base 10)\t| `log10(10.0) is 1.0`, `log10(100.0) is 2.0`\n",
    "`pow(`x, y`)`\t| x raised to power y (x<sup>y</sup>)\t| `pow(2.0, 7.0) is 128.0`, `pow(9.0, .5) is 3.0`\n",
    "`sqrt(`x`)`\t| square root of x\t| `sqrt(900.0) is 30.0`, `sqrt(9.0) is 3.0`\n",
    "`fabs(`x`)`\t| Absolute value of x—always returns a float. Python also has the built-in function `abs`, which returns an `int` or a `float`, based on its argument.\t| `fabs(5.1) is 5.1`, `fabs(-5.1) is 5.1` \n",
    "`fmod(`x, y`)`\t| Remainder of x/y as a floating-point number\t| `fmod(9.8, 4.0) is 1.8`"
   ]
  },
  {
   "cell_type": "markdown",
   "id": "cultural-screening",
   "metadata": {
    "slideshow": {
     "slide_type": "slide"
    }
   },
   "source": [
    "## 2.2 Python Standard Library\n",
    "* You write Python programs by combining functions (and classes, i.e., custom types&mdash;we look at it later in the course) that you create with preexisting functions and classes defined in modules, such as those in the Python Standard Library and other libraries. \n",
    "* Avoid “reinventing the wheel.”\n",
    "* A module is a file that groups related functions, data and classes. \n",
    "* A **package** groups related modules. \n",
    "* The [Python Standard Library](https://docs.python.org/3/library/) is provided with the core Python language. \n",
    "* Its packages and modules contain capabilities for a wide variety of everyday programming tasks. "
   ]
  },
  {
   "cell_type": "markdown",
   "id": "illegal-nomination",
   "metadata": {
    "slideshow": {
     "slide_type": "slide"
    }
   },
   "source": [
    "Some popular Python Standard Library modules\n",
    "----------------------\n",
    "- `collections`—Data structures beyond lists, tuples, dictionaries and sets.\n",
    "- Cryptography modules—Encrypting data for secure transmission.\n",
    "- `csv`—Processing comma-separated value files (like those in Excel).\n",
    "- `datetime`—Date and time manipulations. Also modules `time` and `calendar`. \n",
    "- `decimal`—Fixed-point and floating-point arithmetic, including monetary calculations.\n",
    "- `doctest`—Embed validation tests and expected results in docstrings for simple unit testing.\n",
    "- `gettext` and `locale`—Internationalization and localization modules. \n",
    "- `json`—JavaScript Object Notation (JSON) processing used with web services and NoSQL document databases.\n",
    "- `math`—Common math constants and operations.\n",
    "- `os`—Interacting with the operating system.\n",
    "- `profile`, `pstats`, `timeit`—Performance analysis.\n",
    "- `random`—Pseudorandom numbers.\n",
    "- `re`—Regular expressions for pattern matching.\n",
    "- `sqlite3`—SQLite relational database access.\n",
    "- `statistics`—Mathematical statistics functions such as `mean`, `median`, `mode` and `variance`.\n",
    "- `string`—String processing.\n",
    "- `sys`—Command-line argument processing; standard input, standard output and standard error streams.\n",
    "- `tkinter`—Graphical user interfaces (GUIs) and canvas-based graphics.\n",
    "- `turtle`—Turtle graphics.\n",
    "- `webbrowser`—For conveniently displaying web pages in Python apps.\n"
   ]
  },
  {
   "cell_type": "markdown",
   "id": "growing-blues",
   "metadata": {
    "slideshow": {
     "slide_type": "slide"
    }
   },
   "source": [
    "## 2.3 Default Parameter Values\n",
    "* You can specify that a parameter has a **default parameter value**. \n",
    "* When calling the function, if you omit the argument for a parameter with a default parameter value, the default value for that parameter is automatically passed. "
   ]
  },
  {
   "cell_type": "code",
   "execution_count": null,
   "id": "loose-longer",
   "metadata": {
    "slideshow": {
     "slide_type": "slide"
    }
   },
   "outputs": [],
   "source": [
    "def rectangle_area(length=2, width=3):\n",
    "    \"\"\"Return a rectangle's area.\"\"\"\n",
    "    return length * width"
   ]
  },
  {
   "cell_type": "markdown",
   "id": "incoming-latin",
   "metadata": {},
   "source": [
    "* Specify a default parameter value by following a parameter’s name with an `=` and a value. \n",
    "* Any parameters with default parameter values must appear in the parameter list to the _right_ of parameters that do not have defaults. "
   ]
  },
  {
   "cell_type": "code",
   "execution_count": null,
   "id": "magnetic-height",
   "metadata": {},
   "outputs": [],
   "source": [
    "rectangle_area()"
   ]
  },
  {
   "cell_type": "code",
   "execution_count": null,
   "id": "smart-baker",
   "metadata": {},
   "outputs": [],
   "source": [
    "rectangle_area(10)"
   ]
  },
  {
   "cell_type": "code",
   "execution_count": null,
   "id": "expired-detection",
   "metadata": {},
   "outputs": [],
   "source": [
    "rectangle_area(10, 5)"
   ]
  },
  {
   "cell_type": "markdown",
   "id": "relevant-checkout",
   "metadata": {
    "slideshow": {
     "slide_type": "slide"
    }
   },
   "source": [
    "## 2.4 Keyword Arguments\n",
    "* When calling functions, you can use **keyword arguments** to pass arguments in `any` order."
   ]
  },
  {
   "cell_type": "code",
   "execution_count": null,
   "id": "innovative-coach",
   "metadata": {},
   "outputs": [],
   "source": [
    "def rectangle_area(length, width):\n",
    "    \"\"\"Return a rectangle's area.\"\"\"\n",
    "    return length * width"
   ]
  },
  {
   "cell_type": "markdown",
   "id": "blessed-inspection",
   "metadata": {},
   "source": [
    "* Each keyword _argument in a call_ has the form _parametername=value_. \n",
    "* Order of keyword arguments does not matter."
   ]
  },
  {
   "cell_type": "code",
   "execution_count": null,
   "id": "german-dutch",
   "metadata": {},
   "outputs": [],
   "source": [
    "rectangle_area(width=5, length=10)"
   ]
  },
  {
   "cell_type": "markdown",
   "id": "bacterial-nicaragua",
   "metadata": {
    "slideshow": {
     "slide_type": "slide"
    }
   },
   "source": [
    "## 2.5 Arbitrary Argument Lists\n",
    "* Functions with **arbitrary argument lists**, such as built-in functions `min` and `max`, can receive _any_ number of arguments. \n",
    "* Function `min`'s documentation states that `min` has two _required_ parameters (named `arg1` and `arg2`) and an optional third parameter of the form **`*args`**, indicating that the function can receive any number of additional arguments. \n",
    "* The `*` before the parameter name tells Python to pack any remaining arguments into a tuple that’s passed to the `args` parameter."
   ]
  },
  {
   "cell_type": "markdown",
   "id": "lesbian-bolivia",
   "metadata": {
    "slideshow": {
     "slide_type": "slide"
    }
   },
   "source": [
    "### Defining a Function with an Arbitrary Argument List\n",
    "* `average` function that can receive any number of arguments."
   ]
  },
  {
   "cell_type": "code",
   "execution_count": null,
   "id": "respiratory-venue",
   "metadata": {},
   "outputs": [],
   "source": [
    "def average(*args):\n",
    "    return sum(args) / len(args)"
   ]
  },
  {
   "cell_type": "markdown",
   "id": "eligible-algebra",
   "metadata": {},
   "source": [
    "* The `*args` parameter must be the _rightmost_ parameter. "
   ]
  },
  {
   "cell_type": "code",
   "execution_count": null,
   "id": "bearing-speaking",
   "metadata": {},
   "outputs": [],
   "source": [
    "average(5, 10)"
   ]
  },
  {
   "cell_type": "code",
   "execution_count": null,
   "id": "settled-shock",
   "metadata": {},
   "outputs": [],
   "source": [
    "average(5, 10, 15)"
   ]
  },
  {
   "cell_type": "code",
   "execution_count": null,
   "id": "military-reality",
   "metadata": {},
   "outputs": [],
   "source": [
    "average(5, 10, 15, 20)"
   ]
  },
  {
   "cell_type": "markdown",
   "id": "blocked-corruption",
   "metadata": {
    "slideshow": {
     "slide_type": "slide"
    }
   },
   "source": [
    "### Passing an Iterable’s Individual Elements as Function Arguments \n",
    "* Can unpack a tuple’s, list’s or other iterable’s elements to pass them as individual function arguments. \n",
    "* The **`*` operator**, when applied to an iterable argument in a function call, unpacks its elements. "
   ]
  },
  {
   "cell_type": "code",
   "execution_count": null,
   "id": "higher-mistake",
   "metadata": {},
   "outputs": [],
   "source": [
    "grades = [88, 75, 96, 55, 83]"
   ]
  },
  {
   "cell_type": "code",
   "execution_count": null,
   "id": "veterinary-newport",
   "metadata": {},
   "outputs": [],
   "source": [
    "average(*grades)"
   ]
  },
  {
   "cell_type": "markdown",
   "id": "invisible-intellectual",
   "metadata": {},
   "source": [
    "* Equivalent to `average(88, 75, 96, 55, 83)`."
   ]
  },
  {
   "cell_type": "markdown",
   "id": "identical-chuck",
   "metadata": {
    "slideshow": {
     "slide_type": "slide"
    }
   },
   "source": [
    "## 2.6 Methods: Functions That Belong to Objects\n",
    "* A **method** is simply a function that you call on an object using the form \n",
    "```\n",
    "object_name.method_name(arguments)\n",
    "```"
   ]
  },
  {
   "cell_type": "code",
   "execution_count": null,
   "id": "black-evans",
   "metadata": {},
   "outputs": [],
   "source": [
    "s = 'Hello'"
   ]
  },
  {
   "cell_type": "code",
   "execution_count": null,
   "id": "opposite-curve",
   "metadata": {},
   "outputs": [],
   "source": [
    "s.lower()  # call lower method on string object s"
   ]
  },
  {
   "cell_type": "code",
   "execution_count": null,
   "id": "charming-barcelona",
   "metadata": {},
   "outputs": [],
   "source": [
    "s.upper()"
   ]
  },
  {
   "cell_type": "code",
   "execution_count": null,
   "id": "divided-transport",
   "metadata": {
    "scrolled": true
   },
   "outputs": [],
   "source": [
    "s"
   ]
  },
  {
   "cell_type": "markdown",
   "id": "incoming-timothy",
   "metadata": {
    "slideshow": {
     "slide_type": "slide"
    }
   },
   "source": [
    "## 2.7 Scope Rules\n",
    "* Each identifier has a `scope` that determines where you can use it in your program.\n",
    "* [Complete scope details](https://docs.python.org/3/tutorial/classes.html#python-scopes-and-namespaces)."
   ]
  },
  {
   "cell_type": "markdown",
   "id": "pregnant-musical",
   "metadata": {
    "slideshow": {
     "slide_type": "fragment"
    }
   },
   "source": [
    "### Local Scope\n",
    "* A local variable’s identifier has **local scope**. "
   ]
  },
  {
   "cell_type": "markdown",
   "id": "aging-kelly",
   "metadata": {
    "slideshow": {
     "slide_type": "fragment"
    }
   },
   "source": [
    "### Global Scope\n",
    "* Identifiers defined outside any function (or class) have **global scope**—these may include functions, variables and classes."
   ]
  },
  {
   "cell_type": "markdown",
   "id": "changing-scout",
   "metadata": {
    "slideshow": {
     "slide_type": "slide"
    }
   },
   "source": [
    "### Accessing a Global Variable from a Function "
   ]
  },
  {
   "cell_type": "code",
   "execution_count": null,
   "id": "numeric-syndrome",
   "metadata": {},
   "outputs": [],
   "source": [
    "x = 7"
   ]
  },
  {
   "cell_type": "code",
   "execution_count": null,
   "id": "potential-liver",
   "metadata": {},
   "outputs": [],
   "source": [
    "def access_global():\n",
    "    print('x printed from access_global:', x)"
   ]
  },
  {
   "cell_type": "code",
   "execution_count": null,
   "id": "eleven-cherry",
   "metadata": {},
   "outputs": [],
   "source": [
    "access_global()"
   ]
  },
  {
   "cell_type": "markdown",
   "id": "dietary-school",
   "metadata": {
    "slideshow": {
     "slide_type": "slide"
    }
   },
   "source": [
    "* By default, you cannot _modify_ a global variable in a function\n",
    "* Python creates a **new local variable** when you first assign a value to a variable in a function’s block.\n",
    "* In function `try_to_modify_global`’s block, the local `x` **shadows** the global `x`, making it inaccessible in the scope of the function’s block. "
   ]
  },
  {
   "cell_type": "code",
   "execution_count": null,
   "id": "brazilian-jenny",
   "metadata": {},
   "outputs": [],
   "source": [
    "def try_to_modify_global():\n",
    "    x = 3.5\n",
    "    print('x printed from try_to_modify_global:', x)"
   ]
  },
  {
   "cell_type": "code",
   "execution_count": null,
   "id": "structured-shaft",
   "metadata": {},
   "outputs": [],
   "source": [
    "try_to_modify_global()"
   ]
  },
  {
   "cell_type": "code",
   "execution_count": null,
   "id": "surprised-valve",
   "metadata": {},
   "outputs": [],
   "source": [
    "x"
   ]
  },
  {
   "cell_type": "markdown",
   "id": "infectious-sister",
   "metadata": {
    "slideshow": {
     "slide_type": "slide"
    }
   },
   "source": [
    "* To modify a global variable in a function’s block, you must use a **`global`** statement to declare that the variable is defined in the global scope:"
   ]
  },
  {
   "cell_type": "code",
   "execution_count": null,
   "id": "jewish-pacific",
   "metadata": {},
   "outputs": [],
   "source": [
    "def modify_global():\n",
    "    global x;\n",
    "    x = 'hello'\n",
    "    print('x printed from modify_global:', x)\n",
    "    "
   ]
  },
  {
   "cell_type": "code",
   "execution_count": null,
   "id": "spatial-morgan",
   "metadata": {},
   "outputs": [],
   "source": [
    "modify_global()"
   ]
  },
  {
   "cell_type": "code",
   "execution_count": null,
   "id": "rubber-advertiser",
   "metadata": {},
   "outputs": [],
   "source": [
    "x"
   ]
  },
  {
   "cell_type": "markdown",
   "id": "annoying-found",
   "metadata": {
    "slideshow": {
     "slide_type": "slide"
    }
   },
   "source": [
    "### Shadowing Functions\n",
    "* In the preceding chapters, when summing values, we stored the sum in a variable named `total`. \n",
    "* If you define a variable named `sum`, it _shadows_ the built-in function `sum`, making it inaccessible in your code. \n",
    "* `del` can delete an object such as `sum`"
   ]
  },
  {
   "cell_type": "code",
   "execution_count": null,
   "id": "advisory-input",
   "metadata": {},
   "outputs": [],
   "source": [
    "sum = 10 + 5"
   ]
  },
  {
   "cell_type": "code",
   "execution_count": null,
   "id": "horizontal-platinum",
   "metadata": {},
   "outputs": [],
   "source": [
    "sum"
   ]
  },
  {
   "cell_type": "code",
   "execution_count": null,
   "id": "dramatic-phase",
   "metadata": {},
   "outputs": [],
   "source": [
    "sum([10, 5])"
   ]
  },
  {
   "cell_type": "markdown",
   "id": "sustained-european",
   "metadata": {
    "slideshow": {
     "slide_type": "slide"
    }
   },
   "source": [
    "## 2.8 `import`: A Deeper Look"
   ]
  },
  {
   "cell_type": "markdown",
   "id": "composed-africa",
   "metadata": {},
   "source": [
    "### Importing Multiple Identifiers from a Module\n",
    "* Use `from…import` to import a comma-separated list of identifiers from a module then use them without having to precede them with the module name and a dot (`.`):"
   ]
  },
  {
   "cell_type": "code",
   "execution_count": null,
   "id": "balanced-loading",
   "metadata": {},
   "outputs": [],
   "source": [
    "from math import ceil, floor"
   ]
  },
  {
   "cell_type": "code",
   "execution_count": null,
   "id": "compound-tomato",
   "metadata": {},
   "outputs": [],
   "source": [
    "ceil(10.3)"
   ]
  },
  {
   "cell_type": "code",
   "execution_count": null,
   "id": "finnish-integral",
   "metadata": {},
   "outputs": [],
   "source": [
    "floor(10.7)"
   ]
  },
  {
   "cell_type": "markdown",
   "id": "sharing-classroom",
   "metadata": {
    "slideshow": {
     "slide_type": "slide"
    }
   },
   "source": [
    "### Caution: Avoid Wildcard Imports \n",
    "* Import _all_ identifiers defined in a module with a **wildcard** **`import`**.\n",
    "* Makes all of the module’s identifiers available. \n",
    "* Can lead to subtle errors.\n",
    "* Considered a dangerous practice. "
   ]
  },
  {
   "cell_type": "code",
   "execution_count": null,
   "id": "negative-desperate",
   "metadata": {},
   "outputs": [],
   "source": [
    "e = 'hello'"
   ]
  },
  {
   "cell_type": "code",
   "execution_count": null,
   "id": "acquired-testing",
   "metadata": {},
   "outputs": [],
   "source": [
    "from math import *"
   ]
  },
  {
   "cell_type": "code",
   "execution_count": null,
   "id": "dress-stick",
   "metadata": {},
   "outputs": [],
   "source": [
    "e"
   ]
  },
  {
   "cell_type": "markdown",
   "id": "found-choir",
   "metadata": {},
   "source": [
    "* After executing the import, variable `e` is replaced, possibly by accident, with the `math` module’s constant `e`."
   ]
  },
  {
   "cell_type": "markdown",
   "id": "executive-ebony",
   "metadata": {
    "slideshow": {
     "slide_type": "slide"
    }
   },
   "source": [
    "### Binding Names for Modules and Module Identifiers\n",
    "* Sometimes it’s helpful to import a module and use an abbreviation for it to simplify your code. \n",
    "* The `import` statement’s **`as`** clause allows you to specify the name used to reference the module’s identifiers. \n"
   ]
  },
  {
   "cell_type": "code",
   "execution_count": null,
   "id": "mechanical-picture",
   "metadata": {},
   "outputs": [],
   "source": [
    "import statistics as stats"
   ]
  },
  {
   "cell_type": "code",
   "execution_count": null,
   "id": "ecological-closer",
   "metadata": {},
   "outputs": [],
   "source": [
    "grades = [85, 93, 45, 87, 93]"
   ]
  },
  {
   "cell_type": "code",
   "execution_count": null,
   "id": "viral-barrel",
   "metadata": {},
   "outputs": [],
   "source": [
    "stats.mean(grades)"
   ]
  },
  {
   "cell_type": "markdown",
   "id": "compliant-argument",
   "metadata": {
    "slideshow": {
     "slide_type": "notes"
    }
   },
   "source": [
    " ------\n",
    "&copy;1992&ndash;2020 by Pearson Education, Inc. All Rights Reserved. This content is based on Chapter 1 of the book [**Intro to Python for Computer Science and Data Science: Learning to Program with AI, Big Data and the Cloud**](https://amzn.to/2VvdnxE).         "
   ]
  }
 ],
 "metadata": {
  "celltoolbar": "Slideshow",
  "kernelspec": {
   "display_name": "Python 3 (ipykernel)",
   "language": "python",
   "name": "python3"
  },
  "language_info": {
   "codemirror_mode": {
    "name": "ipython",
    "version": 3
   },
   "file_extension": ".py",
   "mimetype": "text/x-python",
   "name": "python",
   "nbconvert_exporter": "python",
   "pygments_lexer": "ipython3",
   "version": "3.10.13"
  }
 },
 "nbformat": 4,
 "nbformat_minor": 5
}
